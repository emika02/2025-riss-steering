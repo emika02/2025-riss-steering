{
 "cells": [
  {
   "cell_type": "code",
   "execution_count": 1,
   "id": "118edec1",
   "metadata": {},
   "outputs": [],
   "source": [
    "import pandas as pd\n",
    "import numpy as np\n"
   ]
  },
  {
   "cell_type": "code",
   "execution_count": 50,
   "id": "8fe11518",
   "metadata": {},
   "outputs": [],
   "source": [
    "def cartesian_to_hyperspherical2(vector): #for 1 sample for now \n",
    "    #vector = vector.detach().cpu().numpy()\n",
    "    r = np.linalg.norm(vector)\n",
    "    dim = len(vector)\n",
    "    angles = np.zeros(dim - 1)\n",
    "    for i in range(dim - 1):\n",
    "        if vector[i:].any() != 0: \n",
    "            angles[i] = np.arctan2(np.linalg.norm(vector[(i+1):]), vector[i])\n",
    "        else: \n",
    "            angles[i] == 0 \n",
    "    return r, angles"
   ]
  },
  {
   "cell_type": "code",
   "execution_count": 64,
   "id": "8297f68d",
   "metadata": {},
   "outputs": [
    {
     "name": "stdout",
     "output_type": "stream",
     "text": [
      "1.0\n",
      "[0. 0. 0. 0. 0.]\n"
     ]
    }
   ],
   "source": [
    "vector = np.array( [1, 0, 0, 0, 0, 0])\n",
    "r, angles = cartesian_to_hyperspherical2(vector)\n",
    "print(r)\n",
    "print(angles)"
   ]
  },
  {
   "cell_type": "code",
   "execution_count": 59,
   "id": "dcd3f257",
   "metadata": {},
   "outputs": [
    {
     "name": "stdout",
     "output_type": "stream",
     "text": [
      "1.0\n",
      "[1.57079633 1.57079633]\n"
     ]
    }
   ],
   "source": [
    "vector = np.array([0,0,1])\n",
    "r, angles = cartesian_to_spherical_nd(vector)\n",
    "print(r)\n",
    "print(angles)"
   ]
  },
  {
   "cell_type": "code",
   "execution_count": 16,
   "id": "052173f0",
   "metadata": {},
   "outputs": [
    {
     "data": {
      "text/plain": [
       "0.7853981633974483"
      ]
     },
     "execution_count": 16,
     "metadata": {},
     "output_type": "execute_result"
    }
   ],
   "source": [
    "np.pi/4"
   ]
  }
 ],
 "metadata": {
  "kernelspec": {
   "display_name": "reps-tsfm",
   "language": "python",
   "name": "python3"
  },
  "language_info": {
   "codemirror_mode": {
    "name": "ipython",
    "version": 3
   },
   "file_extension": ".py",
   "mimetype": "text/x-python",
   "name": "python",
   "nbconvert_exporter": "python",
   "pygments_lexer": "ipython3",
   "version": "3.10.16"
  }
 },
 "nbformat": 4,
 "nbformat_minor": 5
}

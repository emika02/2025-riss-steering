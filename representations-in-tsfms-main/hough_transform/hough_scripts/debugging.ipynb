{
 "cells": [
  {
   "cell_type": "code",
   "execution_count": 1,
   "id": "118edec1",
   "metadata": {},
   "outputs": [],
   "source": [
    "import pandas as pd\n",
    "import numpy as np\n"
   ]
  },
  {
   "cell_type": "code",
   "execution_count": 28,
   "id": "8fe11518",
   "metadata": {},
   "outputs": [],
   "source": [
    "def cartesian_to_hyperspherical(vector): #for 1 sample for now \n",
    "    #vector = vector.detach().cpu().numpy()\n",
    "    r = np.linalg.norm(vector)\n",
    "    dim = len(vector)\n",
    "    angles = np.zeros(dim - 1)\n",
    "    for i in range(dim - 1):\n",
    "        if vector[i:].any() != 0: \n",
    "            angles[i] = np.arctan2(np.linalg.norm(vector[(i+1):]), vector[i])\n",
    "        else: \n",
    "            angles[i] == 0 \n",
    "    return r, angles\n",
    "\n",
    "def hyperspherical_to_cartesian(r, angles):\n",
    "    dim = len(angles) + 1\n",
    "    cart = np.zeros(dim)\n",
    "\n",
    "    for i in range(dim):\n",
    "        coord = r\n",
    "        for j in range(i):\n",
    "            coord *= np.sin(angles[j])\n",
    "        if i < dim - 1:\n",
    "            coord *= np.cos(angles[i])\n",
    "        cart[i] = coord\n",
    "\n",
    "    return cart"
   ]
  },
  {
   "cell_type": "code",
   "execution_count": 26,
   "id": "8297f68d",
   "metadata": {},
   "outputs": [
    {
     "name": "stdout",
     "output_type": "stream",
     "text": [
      "1.0172129679778086\n",
      "[1.32248279 1.03898823 1.27220495 1.14791316 1.22650851 1.20406227\n",
      " 1.17655195 1.14172648 1.09561948 1.03037683 0.92729522]\n"
     ]
    }
   ],
   "source": [
    "vector = np.array( [1/4, 1/2, 1/4, 1/3,1/4, 1/4, 1/4, 1/4,1/4, 1/4, 1/4, 1/3])\n",
    "r, angles = cartesian_to_hyperspherical(vector)\n",
    "print(r)\n",
    "print(angles)\n"
   ]
  },
  {
   "cell_type": "code",
   "execution_count": 27,
   "id": "af23d8a7",
   "metadata": {},
   "outputs": [
    {
     "name": "stdout",
     "output_type": "stream",
     "text": [
      "[0.25       0.5        0.25       0.33333333 0.25       0.25\n",
      " 0.25       0.25       0.25       0.25       0.25       0.33333333]\n"
     ]
    }
   ],
   "source": [
    "r_vector = hyperspherical_to_cartesian(r, angles)\n",
    "print(r_vector)"
   ]
  },
  {
   "cell_type": "code",
   "execution_count": null,
   "id": "4955d555",
   "metadata": {},
   "outputs": [
    {
     "name": "stdout",
     "output_type": "stream",
     "text": [
      "1.0\n",
      "[1.53954124 1.53952596 1.53951066 ... 1.04719755 0.95531662 0.78539816]\n"
     ]
    }
   ],
   "source": [
    "vector = np.ones((1024,)) #perfecly flat vector\n",
    "vector = vector / np.linalg.norm(vector)\n",
    "r, angles = cartesian_to_hyperspherical2(vector)\n",
    "print(r)\n",
    "print(angles)"
   ]
  },
  {
   "cell_type": "code",
   "execution_count": 11,
   "id": "052173f0",
   "metadata": {},
   "outputs": [
    {
     "data": {
      "text/plain": [
       "1.5707963267948966"
      ]
     },
     "execution_count": 11,
     "metadata": {},
     "output_type": "execute_result"
    }
   ],
   "source": [
    "np.pi/2"
   ]
  },
  {
   "cell_type": "code",
   "execution_count": null,
   "id": "2c3ec4fc",
   "metadata": {},
   "outputs": [],
   "source": [
    "r = 1\n",
    "angles = [np.pi/2, np.pi/2]  # should map to [0, 1, 0]\n",
    "print(hyperspherical_to_cartesian(r, angles))"
   ]
  },
  {
   "cell_type": "code",
   "execution_count": null,
   "id": "e56fc066",
   "metadata": {},
   "outputs": [],
   "source": [
    "from .experiments import extract_activations"
   ]
  }
 ],
 "metadata": {
  "kernelspec": {
   "display_name": "reps-tsfm",
   "language": "python",
   "name": "python3"
  },
  "language_info": {
   "codemirror_mode": {
    "name": "ipython",
    "version": 3
   },
   "file_extension": ".py",
   "mimetype": "text/x-python",
   "name": "python",
   "nbconvert_exporter": "python",
   "pygments_lexer": "ipython3",
   "version": "3.10.16"
  }
 },
 "nbformat": 4,
 "nbformat_minor": 5
}
